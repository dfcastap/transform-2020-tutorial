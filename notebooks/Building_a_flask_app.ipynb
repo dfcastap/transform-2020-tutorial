{
 "cells": [
  {
   "cell_type": "markdown",
   "metadata": {},
   "source": [
    "# Building a web app"
   ]
  },
  {
   "cell_type": "markdown",
   "metadata": {},
   "source": [
    "## 0. Minimal"
   ]
  },
  {
   "cell_type": "code",
   "execution_count": 1,
   "metadata": {},
   "outputs": [],
   "source": [
    "from flask import Flask, request\n",
    "\n",
    "app = Flask(__name__)\n",
    "\n",
    "@app.route('/')\n",
    "def root():\n",
    "    \"\"\"\n",
    "    Simplest possible. Return a string.\n",
    "    \"\"\"\n",
    "    return \"Hello world!\""
   ]
  },
  {
   "cell_type": "markdown",
   "metadata": {},
   "source": [
    "## 1. Getting an arg"
   ]
  },
  {
   "cell_type": "code",
   "execution_count": null,
   "metadata": {},
   "outputs": [],
   "source": [
    "@app.route('/')\n",
    "def root():\n",
    "    \"\"\"\n",
    "    Get one argument as a string.\n",
    "    \"\"\"\n",
    "    name = request.args.get('name', 'world')\n",
    "    return f\"Hello {name}!\""
   ]
  },
  {
   "cell_type": "markdown",
   "metadata": {},
   "source": [
    "## 2. Calculator"
   ]
  },
  {
   "cell_type": "code",
   "execution_count": null,
   "metadata": {},
   "outputs": [],
   "source": [
    "@app.route('/')\n",
    "def root():\n",
    "    \"\"\"\n",
    "    (2) A simple calculator with GET requests.\n",
    "    \"\"\"\n",
    "    vp = float(request.args.get('vp') or 0)\n",
    "    rho = float(request.args.get('rho') or 0)\n",
    "    return f\"Impedance: {vp * rho}\"\n"
   ]
  },
  {
   "cell_type": "markdown",
   "metadata": {},
   "source": [
    "## 3. ML classifier\n",
    "\n",
    "To do this, we need some new functions:\n",
    "\n",
    "- one to process the image as in training.\n",
    "- one to fetch an image from a URL.\n",
    "- one to make a prediction from an image.\n",
    "\n",
    "First, here's the image processing function:"
   ]
  },
  {
   "cell_type": "code",
   "execution_count": null,
   "metadata": {},
   "outputs": [],
   "source": [
    "def img_to_arr(img):\n",
    "    \"\"\"\n",
    "    Apply the same processing we used in training: greyscale and resize.\n",
    "    \"\"\"\n",
    "    img = img.convert(mode='L').resize((32, 32))\n",
    "    return np.asarray(img).ravel() / 255"
   ]
  },
  {
   "cell_type": "markdown",
   "metadata": {},
   "source": [
    "Here's the `fetch_image()` and `predict_from_image()` functions:"
   ]
  },
  {
   "cell_type": "code",
   "execution_count": 7,
   "metadata": {},
   "outputs": [],
   "source": [
    "def fetch_image(url):\n",
    "    \"\"\"\n",
    "    Download an image from the web and pass to the image processing function.\n",
    "    \"\"\"\n",
    "    r = requests.get(url)\n",
    "    f = BytesIO(r.content)\n",
    "    return Image.open(f) \n",
    "\n",
    "\n",
    "def predict_from_image(clf, img):\n",
    "    \"\"\"\n",
    "    Classify an image.\n",
    "    \"\"\"\n",
    "    arr = img_to_arr(img)\n",
    "    X = np.atleast_2d(arr)\n",
    "    probs = clf.predict_proba(X)\n",
    "    result = {\n",
    "        'class': clf.classes_[np.argmax(probs)],\n",
    "        'prob': probs.max(),\n",
    "        'classes': clf.classes_.tolist(),\n",
    "        'probs': np.squeeze(probs).tolist(), # Must be serializable.\n",
    "    }\n",
    "    return result"
   ]
  },
  {
   "cell_type": "markdown",
   "metadata": {},
   "source": [
    "Now we can write the prediction function for the app:"
   ]
  },
  {
   "cell_type": "code",
   "execution_count": 6,
   "metadata": {},
   "outputs": [],
   "source": [
    "import joblib\n",
    "from flask import Flask, request, jsonify\n",
    "\n",
    "app = Flask(__name__)\n",
    "\n",
    "CLF = joblib.load('../app/data/rf.gz')\n",
    "\n",
    "@app.route('/predict')\n",
    "def predict():\n",
    "    \"\"\"\n",
    "    (3) Make a prediction from a URL given via GET request.\n",
    "    \n",
    "    Using a URL means we can still just accept a string as an arg.\n",
    "\n",
    "    There's still no human interface.\n",
    "    \"\"\"\n",
    "    url = request.args.get('url')\n",
    "    # result = utils.predict_from_url(CLF, url)\n",
    "    \n",
    "    # Deal with not getting a URL.\n",
    "    if url:\n",
    "        img = utils.fetch_image(url)\n",
    "        result = utils.predict_from_image(CLF, img)\n",
    "    else:\n",
    "        result = 'Please provide a URL'\n",
    "\n",
    "    return jsonify(result)"
   ]
  },
  {
   "cell_type": "markdown",
   "metadata": {},
   "source": [
    "## 4. Get image via a form"
   ]
  },
  {
   "cell_type": "markdown",
   "metadata": {},
   "source": [
    "First we'll just show a 'Hello world' page:"
   ]
  },
  {
   "cell_type": "code",
   "execution_count": 8,
   "metadata": {},
   "outputs": [],
   "source": [
    "@app.route('/simple', methods=['GET'])\n",
    "def simple():\n",
    "    \"\"\"\n",
    "    (4a) Render a template.\n",
    "    \"\"\"\n",
    "    return render_template('simple_page.html')"
   ]
  },
  {
   "cell_type": "markdown",
   "metadata": {},
   "source": [
    "Now we can add a form:"
   ]
  },
  {
   "cell_type": "code",
   "execution_count": null,
   "metadata": {},
   "outputs": [],
   "source": [
    "@app.route('/form', methods=['GET', 'POST'])\n",
    "def form():\n",
    "    \"\"\"\n",
    "    (4b) Make a prediction from a URL given via a form.\n",
    "    \"\"\"\n",
    "    if request.method == 'POST':\n",
    "        url = request.form.get('url')\n",
    "        img = utils.fetch_image(url)\n",
    "        result = utils.predict_from_image(CLF, img)\n",
    "        result['url'] = url  # If we add this back, we can display it.\n",
    "    else:\n",
    "        result = {}\n",
    "\n",
    "    return render_template('form.html', result=result)\n"
   ]
  }
 ],
 "metadata": {
  "kernelspec": {
   "display_name": "transform",
   "language": "python",
   "name": "transform"
  },
  "language_info": {
   "codemirror_mode": {
    "name": "ipython",
    "version": 3
   },
   "file_extension": ".py",
   "mimetype": "text/x-python",
   "name": "python",
   "nbconvert_exporter": "python",
   "pygments_lexer": "ipython3",
   "version": "3.7.6"
  }
 },
 "nbformat": 4,
 "nbformat_minor": 2
}
