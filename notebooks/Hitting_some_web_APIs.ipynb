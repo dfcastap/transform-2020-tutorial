{
 "cells": [
  {
   "cell_type": "markdown",
   "metadata": {},
   "source": [
    "# Hitting some web APIs"
   ]
  },
  {
   "cell_type": "markdown",
   "metadata": {},
   "source": [
    "You can read websites with Python too! The easiest way is with `requests`:"
   ]
  },
  {
   "cell_type": "code",
   "execution_count": null,
   "metadata": {},
   "outputs": [],
   "source": []
  },
  {
   "cell_type": "code",
   "execution_count": null,
   "metadata": {},
   "outputs": [],
   "source": []
  },
  {
   "cell_type": "markdown",
   "metadata": {},
   "source": [
    "## Geology\n",
    "\n",
    "Let's go look at [Macrostrat](https://macrostrat.org), a fantastic project at University of Wisconsin-Madison."
   ]
  },
  {
   "cell_type": "code",
   "execution_count": null,
   "metadata": {},
   "outputs": [],
   "source": []
  },
  {
   "cell_type": "code",
   "execution_count": null,
   "metadata": {},
   "outputs": [],
   "source": []
  },
  {
   "cell_type": "markdown",
   "metadata": {},
   "source": [
    "## Language analysis\n",
    "\n",
    "This one uses a rpoprietary web API, so you need a secret key to access it. You can sign up and get a key at [MeaningCloud](https://www.meaningcloud.com/). Just substitute yours in as the `meaningcloud` variable here."
   ]
  },
  {
   "cell_type": "markdown",
   "metadata": {},
   "source": [
    "I'm using an article from [Canadian Mining Journal](http://www.canadianminingjournal.com/news/gold-victoria-continues-to-ramp-up-eagle/)."
   ]
  },
  {
   "cell_type": "code",
   "execution_count": null,
   "metadata": {},
   "outputs": [],
   "source": [
    "text = \"\"\"YUKON – Victoria Gold’s Eagle gold mine has produced 25,068 oz. of gold from the start of this year until the end of May, and is expected to achieve commercial production at the end of the second quarter or early in the third quarter.\n",
    "\n",
    "In a release, the company’s management noted that productivity in May was impacted by COVID-19. “May production numbers were below our expectations as we felt the impact of COVID measures on productivity,” John McConnell, the company’s president and CEO, said in a release.\n",
    "\n",
    "Between January and the end of May, Victoria mined and stacked 2.4 million tonnes of ore grading 0.84 g/t gold and produced 25,068 oz. as a result.\n",
    "\n",
    "The company has also made a US$7.1-million principal repayment on its secured credit facility at the end of May. The next principal and interest payment is due at the end of August; the company has the option to repay this debt early.\n",
    "\n",
    "Victoria wholly owns the 555-sq.-km Dublin Gulch property in central Yukon, which hosts the Eagle and Olive gold deposits.\n",
    "\n",
    "Proven and probable reserves across Eagle and Olive total 155 million tonnes grading 0.65 g/t gold for a total of 3.3 million oz. Cut-off grades for the reserves vary with deposit and material type and range from 0.15 g/t gold to 0.58 g/t gold.\n",
    "\n",
    "Based on a technical report released last December, the Eagle mine is expected to produce an average of over 210,000 oz. of gold a year at all-in sustaining costs of US$774 per oz. over a mine life in excess of 10 years.\"\"\""
   ]
  },
  {
   "cell_type": "code",
   "execution_count": null,
   "metadata": {
    "scrolled": true
   },
   "outputs": [],
   "source": [
    "from passwords import meaningcloud"
   ]
  },
  {
   "cell_type": "code",
   "execution_count": null,
   "metadata": {},
   "outputs": [],
   "source": [
    "def analyse_text(t, txtf='plain'):\n",
    "    \n",
    "    url = \"http://api.meaningcloud.com/topics-2.0\"\n",
    "\n",
    "    data = {\n",
    "        'key': meaningcloud,\n",
    "        'lang': 'en',\n",
    "        'txt': t,\n",
    "        'txtf': txtf,\n",
    "        'tt': 'a'\n",
    "        }\n",
    "\n",
    "    headers = {'content-type': 'application/x-www-form-urlencoded'}\n",
    "\n",
    "    r = requests.request(\"POST\", url, data=data, headers=headers)\n",
    "\n",
    "    return r.json()"
   ]
  },
  {
   "cell_type": "code",
   "execution_count": null,
   "metadata": {},
   "outputs": [],
   "source": [
    "j = analyse_text(text)"
   ]
  },
  {
   "cell_type": "code",
   "execution_count": null,
   "metadata": {},
   "outputs": [],
   "source": [
    "j.keys()"
   ]
  },
  {
   "cell_type": "code",
   "execution_count": null,
   "metadata": {},
   "outputs": [],
   "source": [
    "j['money_expression_list']"
   ]
  },
  {
   "cell_type": "code",
   "execution_count": null,
   "metadata": {},
   "outputs": [],
   "source": [
    "j['quotation_list']"
   ]
  },
  {
   "cell_type": "code",
   "execution_count": null,
   "metadata": {},
   "outputs": [],
   "source": [
    "j['entity_list']"
   ]
  },
  {
   "cell_type": "code",
   "execution_count": null,
   "metadata": {},
   "outputs": [],
   "source": [
    "def get_places(j):\n",
    "    return [x['form'] for x in j['entity_list'] if 'Location' in x['sementity']['type']]\n",
    "\n",
    "get_places(j)"
   ]
  },
  {
   "cell_type": "markdown",
   "metadata": {},
   "source": [
    "## Geofignet\n",
    "\n",
    "Let's [take a look](https://geofignet.geosci.ai/api).\n",
    "\n",
    "We can try it on one of Conor O'Sullivan's tweets, like [this one](https://twitter.com/cmnosullivan/status/1264176075791360001)"
   ]
  },
  {
   "cell_type": "code",
   "execution_count": null,
   "metadata": {},
   "outputs": [],
   "source": []
  },
  {
   "cell_type": "code",
   "execution_count": null,
   "metadata": {},
   "outputs": [],
   "source": []
  }
 ],
 "metadata": {
  "kernelspec": {
   "display_name": "t20-fri-mvp",
   "language": "python",
   "name": "t20-fri-mvp"
  },
  "language_info": {
   "codemirror_mode": {
    "name": "ipython",
    "version": 3
   },
   "file_extension": ".py",
   "mimetype": "text/x-python",
   "name": "python",
   "nbconvert_exporter": "python",
   "pygments_lexer": "ipython3",
   "version": "3.8.3"
  }
 },
 "nbformat": 4,
 "nbformat_minor": 4
}
